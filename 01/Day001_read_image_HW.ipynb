{
 "cells": [
  {
   "cell_type": "markdown",
   "metadata": {},
   "source": [
    "# 作業\n",
    "\n",
    "思考一下我們前面有提到圖片是矩陣，但維度可能會不一樣\n",
    "例如灰階圖只有兩個維度，RGB 彩圖則有 3 個維度\n",
    "\n",
    "假如今天我們把 RGB 3 個維度拆開來看會有甚麼不同的效果呢？"
   ]
  },
  {
   "cell_type": "code",
   "execution_count": 1,
   "metadata": {},
   "outputs": [
    {
     "name": "stdout",
     "output_type": "stream",
     "text": [
      "Collecting package metadata (current_repodata.json): done\n",
      "Solving environment: done\n",
      "\n",
      "## Package Plan ##\n",
      "\n",
      "  environment location: /opt/conda\n",
      "\n",
      "  added / updated specs:\n",
      "    - numpy\n",
      "    - opencv\n",
      "\n",
      "\n",
      "The following packages will be downloaded:\n",
      "\n",
      "    package                    |            build\n",
      "    ---------------------------|-----------------\n",
      "    dbus-1.13.6                |       he372182_0         602 KB  conda-forge\n",
      "    expat-2.2.5                |    he1b5a44_1004         191 KB  conda-forge\n",
      "    ffmpeg-4.1.3               |       h167e202_0        75.8 MB  conda-forge\n",
      "    giflib-5.1.9               |       h516909a_0         108 KB  conda-forge\n",
      "    gnutls-3.6.5               |    hd3a4fd2_1002         2.1 MB  conda-forge\n",
      "    gst-plugins-base-1.14.5    |       h0935bb2_0         6.8 MB  conda-forge\n",
      "    gstreamer-1.14.5           |       h36ae1b5_0         4.5 MB  conda-forge\n",
      "    jasper-1.900.1             |    h07fcdf6_1006         286 KB  conda-forge\n",
      "    lame-3.100                 |    h14c3975_1001         498 KB  conda-forge\n",
      "    libclang-9.0.0             |default_hde54327_4        22.3 MB  conda-forge\n",
      "    libllvm9-9.0.0             |       hc9558a2_3        25.1 MB  conda-forge\n",
      "    libwebp-1.0.2              |       h576950b_1         920 KB  conda-forge\n",
      "    libxkbcommon-0.9.1         |       hebb1f50_0         472 KB  conda-forge\n",
      "    nettle-3.4.1               |    h1bed415_1002         5.7 MB  conda-forge\n",
      "    nspr-4.23                  |       he1b5a44_0         1.6 MB  conda-forge\n",
      "    nss-3.47                   |       he751ad9_0         1.9 MB  conda-forge\n",
      "    opencv-3.4.7               |   py37h0cc45ee_3        59.3 MB  conda-forge\n",
      "    openh264-1.8.0             |    hdbcaa40_1000         1.4 MB  conda-forge\n",
      "    qt-5.12.5                  |       hd8c4c69_1        99.2 MB  conda-forge\n",
      "    x264-1!152.20180806        |       h14c3975_0         1.4 MB  conda-forge\n",
      "    ------------------------------------------------------------\n",
      "                                           Total:       310.1 MB\n",
      "\n",
      "The following NEW packages will be INSTALLED:\n",
      "\n",
      "  dbus               conda-forge/linux-64::dbus-1.13.6-he372182_0\n",
      "  expat              conda-forge/linux-64::expat-2.2.5-he1b5a44_1004\n",
      "  ffmpeg             conda-forge/linux-64::ffmpeg-4.1.3-h167e202_0\n",
      "  giflib             conda-forge/linux-64::giflib-5.1.9-h516909a_0\n",
      "  gnutls             conda-forge/linux-64::gnutls-3.6.5-hd3a4fd2_1002\n",
      "  gst-plugins-base   conda-forge/linux-64::gst-plugins-base-1.14.5-h0935bb2_0\n",
      "  gstreamer          conda-forge/linux-64::gstreamer-1.14.5-h36ae1b5_0\n",
      "  jasper             conda-forge/linux-64::jasper-1.900.1-h07fcdf6_1006\n",
      "  lame               conda-forge/linux-64::lame-3.100-h14c3975_1001\n",
      "  libclang           conda-forge/linux-64::libclang-9.0.0-default_hde54327_4\n",
      "  libllvm9           conda-forge/linux-64::libllvm9-9.0.0-hc9558a2_3\n",
      "  libwebp            conda-forge/linux-64::libwebp-1.0.2-h576950b_1\n",
      "  libxkbcommon       conda-forge/linux-64::libxkbcommon-0.9.1-hebb1f50_0\n",
      "  nettle             conda-forge/linux-64::nettle-3.4.1-h1bed415_1002\n",
      "  nspr               conda-forge/linux-64::nspr-4.23-he1b5a44_0\n",
      "  nss                conda-forge/linux-64::nss-3.47-he751ad9_0\n",
      "  opencv             conda-forge/linux-64::opencv-3.4.7-py37h0cc45ee_3\n",
      "  openh264           conda-forge/linux-64::openh264-1.8.0-hdbcaa40_1000\n",
      "  qt                 conda-forge/linux-64::qt-5.12.5-hd8c4c69_1\n",
      "  x264               conda-forge/linux-64::x264-1!152.20180806-h14c3975_0\n",
      "\n",
      "\n",
      "\n",
      "Downloading and Extracting Packages\n",
      "giflib-5.1.9         | 108 KB    | ##################################### | 100% \n",
      "gnutls-3.6.5         | 2.1 MB    | ##################################### | 100% \n",
      "libllvm9-9.0.0       | 25.1 MB   | ##################################### | 100% \n",
      "x264-1!152.20180806  | 1.4 MB    | ##################################### | 100% \n",
      "jasper-1.900.1       | 286 KB    | ##################################### | 100% \n",
      "openh264-1.8.0       | 1.4 MB    | ##################################### | 100% \n",
      "nss-3.47             | 1.9 MB    | ##################################### | 100% \n",
      "nspr-4.23            | 1.6 MB    | ##################################### | 100% \n",
      "gstreamer-1.14.5     | 4.5 MB    | ##################################### | 100% \n",
      "qt-5.12.5            | 99.2 MB   | ##################################### | 100% \n",
      "gst-plugins-base-1.1 | 6.8 MB    | ##################################### | 100% \n",
      "lame-3.100           | 498 KB    | ##################################### | 100% \n",
      "libxkbcommon-0.9.1   | 472 KB    | ##################################### | 100% \n",
      "libclang-9.0.0       | 22.3 MB   | ##################################### | 100% \n",
      "libwebp-1.0.2        | 920 KB    | ##################################### | 100% \n",
      "opencv-3.4.7         | 59.3 MB   | ##################################### | 100% \n",
      "expat-2.2.5          | 191 KB    | ##################################### | 100% \n",
      "nettle-3.4.1         | 5.7 MB    | ##################################### | 100% \n",
      "dbus-1.13.6          | 602 KB    | ##################################### | 100% \n",
      "ffmpeg-4.1.3         | 75.8 MB   | ##################################### | 100% \n",
      "Preparing transaction: done\n",
      "Verifying transaction: done\n",
      "Executing transaction: done\n"
     ]
    }
   ],
   "source": [
    "!conda install --yes -c menpo opencv numpy\n",
    "#!python3 -m pip install --upgrade ipython opencv-python opencv-contrib-python numpy"
   ]
  },
  {
   "cell_type": "code",
   "execution_count": null,
   "metadata": {},
   "outputs": [],
   "source": [
    "import cv2\n",
    "\n",
    "img_path = '../data/lena.png'\n",
    "\n",
    "# 以彩色圖片的方式載入\n",
    "img = cv2.imread(img_path, cv2.IMREAD_COLOR)\n",
    "\n",
    "# 以灰階圖片的方式載入\n",
    "img_gray = cv2.imread(img_path, cv2.IMREAD_GRAYSCALE)\n",
    "\n",
    "cv2.imshow('bgr', img)\n",
    "cv2.waitKey(0)\n",
    "cv2.destroyAllWindows()\n",
    "\n"
   ]
  },
  {
   "cell_type": "code",
   "execution_count": null,
   "metadata": {},
   "outputs": [],
   "source": []
  },
  {
   "cell_type": "code",
   "execution_count": null,
   "metadata": {},
   "outputs": [],
   "source": []
  }
 ],
 "metadata": {
  "kernelspec": {
   "display_name": "Python 3",
   "language": "python",
   "name": "python3"
  },
  "language_info": {
   "codemirror_mode": {
    "name": "ipython",
    "version": 3
   },
   "file_extension": ".py",
   "mimetype": "text/x-python",
   "name": "python",
   "nbconvert_exporter": "python",
   "pygments_lexer": "ipython3",
   "version": "3.7.3"
  }
 },
 "nbformat": 4,
 "nbformat_minor": 4
}
